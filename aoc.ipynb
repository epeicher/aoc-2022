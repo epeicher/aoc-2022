{
  "cells": [
    {
      "cell_type": "markdown",
      "metadata": {},
      "source": [
        "<div style=\"text-align: right\" align=\"right\"><i>Roberto<br>December 1–, 2022</i></div>\n",
        "\n",
        "# Advent of Code 2022\n",
        "\n",
        "# Day 0: Preparations\n",
        "\n",
        "Useful imports:"
      ]
    },
    {
      "cell_type": "code",
      "execution_count": 1,
      "metadata": {},
      "outputs": [],
      "source": [
        "from __future__  import annotations\n",
        "from collections import Counter, defaultdict, namedtuple, deque\n",
        "from itertools   import permutations, combinations, chain, count as count_from, product as cross_product\n",
        "from typing      import *\n",
        "from statistics  import mean, median\n",
        "from math        import ceil, inf\n",
        "from functools   import lru_cache\n",
        "import re"
      ]
    },
    {
      "cell_type": "markdown",
      "metadata": {},
      "source": [
        "Each day's work will consist of three tasks, denoted by three bulleted section:\n",
        "- **Input**: Parse the day's input file.  I will  use the function `parse(day, parser, sep)`, which:\n",
        "   - Reads the input file for `day`.\n",
        "   - Prints out the first few lines of the file (to remind me, and the notebook reader, what's in the file).\n",
        "   - Breaks the file into a sequence of *entries* separated by `sep` (default newline).\n",
        "   - Applies `parser` to each entry and returns the results as a tuple.\n",
        "       - Useful parser functions include `ints`, `digits`, `atoms`, `words`, and the built-ins `int` and `str`.\n",
        "- **Part 1**: Understand the day's instructions and:\n",
        "   - Write code to compute the answer to Part 1.\n",
        "   - Record the answer with the `answer` function, which also serves as a unit test when the notebook is re-run.\n",
        "- **Part 2**: Understand the second part of the instructions and:\n",
        "   - Write code and record `answer` for Part 2.\n",
        "   \n",
        "Occasionally I'll introduce a **Part 3** where I explore beyond the instructions.\n",
        "\n",
        "Here are the helper functions for `answer` and `parse`:"
      ]
    },
    {
      "cell_type": "code",
      "execution_count": 2,
      "metadata": {},
      "outputs": [],
      "source": [
        "def answer(puzzle_number, got, expected) -> bool:\n",
        "    \"\"\"Verify the answer we got was the expected answer.\"\"\"\n",
        "    assert got == expected, f'For {puzzle_number}, expected {expected} but got {got}.'\n",
        "    return True\n",
        "\n",
        "def parse(day, parser=str, sep='\\n', print_lines=7) -> tuple:\n",
        "    \"\"\"Split the day's input file into entries separated by `sep`, and apply `parser` to each.\"\"\"\n",
        "    fname = f'data/{day}.txt'\n",
        "    text  = open(fname).read()\n",
        "    entries = mapt(parser, text.rstrip().split(sep))\n",
        "    if print_lines:\n",
        "        all_lines = text.splitlines()\n",
        "        lines = all_lines[:print_lines]\n",
        "        head = f'{fname} ➜ {len(text)} chars, {len(all_lines)} lines; first {len(lines)} lines:'\n",
        "        dash = \"-\" * 100\n",
        "        print(f'{dash}\\n{head}\\n{dash}')\n",
        "        for line in lines:\n",
        "            print(trunc(line))\n",
        "        print(f'{dash}\\nparse({day}) ➜ {len(entries)} entries:\\n'\n",
        "              f'{dash}\\n{trunc(str(entries))}\\n{dash}')\n",
        "    return entries\n",
        "\n",
        "def trunc(s: str, left=70, right=25, dots=' ... ') -> str: \n",
        "    \"\"\"All of string s if it fits; else left and right ends of s with dots in the middle.\"\"\"\n",
        "    dots = ' ... '\n",
        "    return s if len(s) <= left + right + len(dots) else s[:left] + dots + s[-right:]"
      ]
    },
    {
      "cell_type": "code",
      "execution_count": 3,
      "metadata": {},
      "outputs": [],
      "source": [
        "Char = str # Intended as the type of a one-character string\n",
        "Atom = Union[float, int, str]\n",
        "\n",
        "def ints(text: str) -> Tuple[int]:\n",
        "    \"\"\"A tuple of all the integers in text, ignoring non-number characters.\"\"\"\n",
        "    return mapt(int, re.findall(r'-?[0-9]+', text))\n",
        "\n",
        "def digits(text: str) -> Tuple[int]:\n",
        "    \"\"\"A tuple of all the digits in text (as ints 0–9), ignoring non-digit characters.\"\"\"\n",
        "    return mapt(int, re.findall(r'[0-9]', text))\n",
        "\n",
        "def words(text: str) -> List[str]:\n",
        "    \"\"\"A list of all the alphabetic words in text, ignoring non-letters.\"\"\"\n",
        "    return re.findall(r'[a-zA-Z]+', text)\n",
        "\n",
        "def atoms(text: str) -> Tuple[Atom]:\n",
        "    \"\"\"A tuple of all the atoms (numbers or symbol names) in text.\"\"\"\n",
        "    return mapt(atom, re.findall(r'[a-zA-Z_0-9.+-]+', text))\n",
        "\n",
        "def atom(text: str) -> Atom:\n",
        "    \"\"\"Parse text into a single float or int or str.\"\"\"\n",
        "    try:\n",
        "        x = float(text)\n",
        "        return round(x) if round(x) == x else x\n",
        "    except ValueError:\n",
        "        return text\n",
        "    \n",
        "def mapt(fn, *args) -> tuple:\n",
        "    \"\"\"map(fn, *args) and return the result as a tuple.\"\"\"\n",
        "    return tuple(map(fn, *args))"
      ]
    },
    {
      "cell_type": "markdown",
      "metadata": {},
      "source": [
        "A few additional  utility functions that I have used in the past:"
      ]
    },
    {
      "cell_type": "code",
      "execution_count": 4,
      "metadata": {},
      "outputs": [],
      "source": [
        "def quantify(iterable, pred=bool) -> int:\n",
        "    \"\"\"Count the number of items in iterable for which pred is true.\"\"\"\n",
        "    return sum(1 for item in iterable if pred(item))\n",
        "\n",
        "class multimap(defaultdict):\n",
        "    \"\"\"A mapping of {key: [val1, val2, ...]}.\"\"\"\n",
        "    def __init__(self, pairs: Iterable[tuple], symmetric=False):\n",
        "        \"\"\"Given (key, val) pairs, return {key: [val, ...], ...}.\n",
        "        If `symmetric` is True, treat (key, val) as (key, val) plus (val, key).\"\"\"\n",
        "        self.default_factory = list\n",
        "        for (key, val) in pairs:\n",
        "            self[key].append(val)\n",
        "            if symmetric:\n",
        "                self[val].append(key)\n",
        "\n",
        "def prod(numbers) -> float: # Will be math.prod in Python 3.8\n",
        "    \"\"\"The product formed by multiplying `numbers` together.\"\"\"\n",
        "    result = 1\n",
        "    for x in numbers:\n",
        "        result *= x\n",
        "    return result\n",
        "\n",
        "def total(counter: Counter) -> int: \n",
        "    \"\"\"The sum of all the counts in a Counter.\"\"\"\n",
        "    return sum(counter.values())\n",
        "\n",
        "def sign(x) -> int: return (0 if x == 0 else +1 if x > 0 else -1)\n",
        "\n",
        "def transpose(matrix) -> list: return list(zip(*matrix))\n",
        "\n",
        "def nothing(*args) -> None: return None\n",
        "\n",
        "cat     = ''.join\n",
        "flatten = chain.from_iterable\n",
        "cache   = lru_cache(None)"
      ]
    },
    {
      "cell_type": "markdown",
      "metadata": {},
      "source": [
        "Some past puzzles involve (x, y) points on a rectangular grid, so I'll define  `Point` and `Grid`:"
      ]
    },
    {
      "cell_type": "code",
      "execution_count": 5,
      "metadata": {},
      "outputs": [],
      "source": [
        "Point = Tuple[int, int] # (x, y) points on a grid\n",
        "\n",
        "neighbors4 = ((0, 1), (1, 0), (0, -1), (-1, 0))               \n",
        "neighbors8 = ((1, 1), (1, -1), (-1, 1), (-1, -1)) + neighbors4\n",
        "\n",
        "class Grid(dict):\n",
        "    \"\"\"A 2D grid, implemented as a mapping of {(x, y): cell_contents}.\"\"\"\n",
        "    def __init__(self, mapping=(), rows=(), neighbors=neighbors4):\n",
        "        \"\"\"Initialize with, e.g., either `mapping={(0, 0): 1, (1, 0): 2, ...}`,\n",
        "        or `rows=[(1, 2, 3), (4, 5, 6)].\n",
        "        `neighbors` is a collection of (dx, dy) deltas to neighboring points.`\"\"\"\n",
        "        self.update(mapping if mapping else\n",
        "                    {(x, y): val \n",
        "                     for y, row in enumerate(rows) \n",
        "                     for x, val in enumerate(row)})\n",
        "        self.width  = max(x for x, y in self) + 1\n",
        "        self.height = max(y for x, y in self) + 1\n",
        "        self.deltas = neighbors\n",
        "        \n",
        "    def copy(self) -> Grid: return Grid(self, neighbors=self.deltas)\n",
        "    \n",
        "    def neighbors(self, point) -> List[Point]:\n",
        "        \"\"\"Points on the grid that neighbor `point`.\"\"\"\n",
        "        x, y = point\n",
        "        return [(x+dx, y+dy) for (dx, dy) in self.deltas \n",
        "                if (x+dx, y+dy) in self]\n",
        "    \n",
        "    def to_rows(self) -> List[List[object]]:\n",
        "        \"\"\"The contents of the grid in a rectangular list of lists.\"\"\"\n",
        "        return [[self[x, y] for x in range(self.width)]\n",
        "                for y in range(self.height)]"
      ]
    },
    {
      "cell_type": "markdown",
      "metadata": {},
      "source": [
        "# Day 2:"
      ]
    },
    {
      "cell_type": "code",
      "execution_count": 6,
      "metadata": {},
      "outputs": [
        {
          "name": "stdout",
          "output_type": "stream",
          "text": [
            "----------------------------------------------------------------------------------------------------\n",
            "data/2.txt ➜ 9999 chars, 2500 lines; first 7 lines:\n",
            "----------------------------------------------------------------------------------------------------\n",
            "B Y\n",
            "A X\n",
            "B Y\n",
            "A Y\n",
            "A Z\n",
            "B Y\n",
            "B Z\n",
            "----------------------------------------------------------------------------------------------------\n",
            "parse(2) ➜ 2500 entries:\n",
            "----------------------------------------------------------------------------------------------------\n",
            "(['B', 'Y'], ['A', 'X'], ['B', 'Y'], ['A', 'Y'], ['A', 'Z'], ['B', 'Y' ... , ['A', 'X'], ['B', 'Z'])\n",
            "----------------------------------------------------------------------------------------------------\n"
          ]
        }
      ],
      "source": [
        "in2 = parse(2,lambda x: x.split())\n"
      ]
    },
    {
      "cell_type": "code",
      "execution_count": 7,
      "metadata": {},
      "outputs": [
        {
          "data": {
            "text/plain": [
              "12740"
            ]
          },
          "execution_count": 7,
          "metadata": {},
          "output_type": "execute_result"
        }
      ],
      "source": [
        "\n",
        "def getPoints(a,b):\n",
        "    return getPointsByShape(b) + getPointsByPlay(a,b)\n",
        "\n",
        "\n",
        "def getPointsByShape(s):\n",
        "    if (s == 'X'):\n",
        "        return 1\n",
        "    if(s == 'Y'):\n",
        "        return 2\n",
        "    if(s == 'Z'):\n",
        "        return 3\n",
        "\n",
        "def getPointsByPlay(a,b):\n",
        "    if(a == 'A' and b == 'X' or a == 'B' and b == 'Y' or a == 'C' and b == 'Z'):\n",
        "        return 3\n",
        "    if(a == 'A' and b == 'Y'):\n",
        "        return 6\n",
        "    if(a == 'B' and b == 'Z'):\n",
        "        return 6\n",
        "    if(a == 'C' and b == 'X'):\n",
        "        return 6\n",
        "    return 0\n",
        "    \n",
        "\n",
        "sum(getPoints(p[0], p[1]) for p in in2)\n"
      ]
    },
    {
      "cell_type": "code",
      "execution_count": 8,
      "metadata": {},
      "outputs": [
        {
          "data": {
            "text/plain": [
              "11980"
            ]
          },
          "execution_count": 8,
          "metadata": {},
          "output_type": "execute_result"
        }
      ],
      "source": [
        "\n",
        "def getPoints(a,b):\n",
        "    return getPointsByPlay(a,b)\n",
        "\n",
        "def getPointsByPlay(a,b):\n",
        "    if(b == 'X'):\n",
        "        s = getShapeToLoose(a)\n",
        "        return getPointsByShape(s)\n",
        "    if(b == 'Y'):\n",
        "        s = getShapeToDraw(a)\n",
        "        return getPointsByShape(s) + 3\n",
        "    if(b == 'Z'):\n",
        "        s = getShapeToWin(a)\n",
        "        return getPointsByShape(s) + 6\n",
        "    raise Exception(f'Invalid value for b {b}')\n",
        "\n",
        "def getPointsByShape(s):\n",
        "    if (s == 'A'):\n",
        "        return 1\n",
        "    if(s == 'B'):\n",
        "        return 2\n",
        "    if(s == 'C'):\n",
        "        return 3\n",
        "    # next line should throw an error\n",
        "    raise Exception('Invalid shape')\n",
        "    \n",
        "def getShapeToWin(a):\n",
        "    if(a == 'A'):\n",
        "        return 'B'\n",
        "    if(a == 'B'):\n",
        "        return 'C'\n",
        "    return 'A'\n",
        "def getShapeToLoose(a):\n",
        "    if(a == 'A'):\n",
        "        return 'C'\n",
        "    if(a == 'B'):\n",
        "        return 'A'\n",
        "    return 'B'\n",
        "def getShapeToDraw(a):\n",
        "    return a\n",
        "\n",
        "sum(getPoints(p[0], p[1]) for p in in2)"
      ]
    },
    {
      "cell_type": "markdown",
      "metadata": {},
      "source": [
        "# Day 3:"
      ]
    },
    {
      "cell_type": "code",
      "execution_count": 9,
      "metadata": {},
      "outputs": [
        {
          "name": "stdout",
          "output_type": "stream",
          "text": [
            "----------------------------------------------------------------------------------------------------\n",
            "data/3.txt ➜ 9589 chars, 300 lines; first 7 lines:\n",
            "----------------------------------------------------------------------------------------------------\n",
            "wgqJtbJMqZVTwWPZZT\n",
            "LHcTGHQhzrTzBsZFPHFZWFFs\n",
            "RnLRClzGzRGLGLGCNRjTMjJfgmffSffMqNgp\n",
            "WPLgsfLmLgqZvZgSRR\n",
            "RbwHdbDdQFFFMvvMjbhqhZZS\n",
            "lzTdldBDszfGcRsr\n",
            "ZjnhJjMjnbdnbHdFLmmfFLmnCCWFFl\n",
            "----------------------------------------------------------------------------------------------------\n",
            "parse(3) ➜ 300 entries:\n",
            "----------------------------------------------------------------------------------------------------\n",
            "(['wgqJtbJMq', 'ZVTwWPZZT'], ['LHcTGHQhzrTz', 'BsZFPHFZWFFs'], ['RnLRC ... 'zrDzSSzfgTPqTSTTtSPgt'])\n",
            "----------------------------------------------------------------------------------------------------\n"
          ]
        }
      ],
      "source": [
        "in3 = parse(3,lambda x: [x[0:int(len(x)/2)],x[int(len(x)/2):]])"
      ]
    },
    {
      "cell_type": "code",
      "execution_count": 10,
      "metadata": {},
      "outputs": [],
      "source": [
        "def getValue(c):\n",
        "    n = ord(c)\n",
        "    if(n >= 97):\n",
        "        return n - 96\n",
        "    return n - 38\n",
        "\n",
        "def getShared(c1,c2):\n",
        "    shared = c1 & c2\n",
        "    return shared.most_common()[0][0]"
      ]
    },
    {
      "cell_type": "code",
      "execution_count": 11,
      "metadata": {},
      "outputs": [
        {
          "data": {
            "text/plain": [
              "7727"
            ]
          },
          "execution_count": 11,
          "metadata": {},
          "output_type": "execute_result"
        }
      ],
      "source": [
        "c = [[Counter(x),Counter(y)] for x,y in in3]\n",
        "result = [getValue(getShared(x[0],x[1])) for x in c]\n",
        "sum(result)"
      ]
    },
    {
      "cell_type": "code",
      "execution_count": 12,
      "metadata": {},
      "outputs": [
        {
          "name": "stdout",
          "output_type": "stream",
          "text": [
            "----------------------------------------------------------------------------------------------------\n",
            "data/test_3.txt ➜ 149 chars, 6 lines; first 6 lines:\n",
            "----------------------------------------------------------------------------------------------------\n",
            "vJrwpWtwJgWrhcsFMMfFFhFp\n",
            "jqHRNqRjqzjGDLGLrsFMfFZSrLrFZsSL\n",
            "PmmdzqPrVvPwwTWBwg\n",
            "wMqvLMZHhHMvwLHjbvcjnnSBnvTQFn\n",
            "ttgJtRGJQctTZtZT\n",
            "CrZsJsPPZsGzwwsLwLmpwMDw\n",
            "----------------------------------------------------------------------------------------------------\n",
            "parse(test_3) ➜ 6 entries:\n",
            "----------------------------------------------------------------------------------------------------\n",
            "('vJrwpWtwJgWrhcsFMMfFFhFp', 'jqHRNqRjqzjGDLGLrsFMfFZSrLrFZsSL', 'Pmmd ... rZsJsPPZsGzwwsLwLmpwMDw')\n",
            "----------------------------------------------------------------------------------------------------\n",
            "----------------------------------------------------------------------------------------------------\n",
            "data/3.txt ➜ 9589 chars, 300 lines; first 7 lines:\n",
            "----------------------------------------------------------------------------------------------------\n",
            "wgqJtbJMqZVTwWPZZT\n",
            "LHcTGHQhzrTzBsZFPHFZWFFs\n",
            "RnLRClzGzRGLGLGCNRjTMjJfgmffSffMqNgp\n",
            "WPLgsfLmLgqZvZgSRR\n",
            "RbwHdbDdQFFFMvvMjbhqhZZS\n",
            "lzTdldBDszfGcRsr\n",
            "ZjnhJjMjnbdnbHdFLmmfFLmnCCWFFl\n",
            "----------------------------------------------------------------------------------------------------\n",
            "parse(3) ➜ 300 entries:\n",
            "----------------------------------------------------------------------------------------------------\n",
            "('wgqJtbJMqZVTwWPZZT', 'LHcTGHQhzrTzBsZFPHFZWFFs', 'RnLRClzGzRGLGLGCNR ... WNzrDzSSzfgTPqTSTTtSPgt')\n",
            "----------------------------------------------------------------------------------------------------\n"
          ]
        }
      ],
      "source": [
        "in3Test = parse(\"test_3\")\n",
        "in3 = parse(3)"
      ]
    },
    {
      "cell_type": "code",
      "execution_count": 13,
      "metadata": {},
      "outputs": [
        {
          "data": {
            "text/plain": [
              "2609"
            ]
          },
          "execution_count": 13,
          "metadata": {},
          "output_type": "execute_result"
        }
      ],
      "source": [
        "acc = []\n",
        "t = []\n",
        "for x,_ in enumerate(in3):\n",
        "    t.append(Counter(in3[x]))\n",
        "    if(x%3 == 2):\n",
        "        acc.append(t)\n",
        "        t = []\n",
        "# print(acc)\n",
        "\n",
        "def getSharedThree(c1,c2,c3):\n",
        "    shared = c1 & c2 & c3\n",
        "    return shared.most_common()[0][0]\n",
        "\n",
        "result = [getValue(getSharedThree(x[0],x[1],x[2])) for x in acc]\n",
        "sum(result)\n"
      ]
    },
    {
      "cell_type": "markdown",
      "metadata": {},
      "source": [
        "# Day 4:"
      ]
    },
    {
      "cell_type": "code",
      "execution_count": 76,
      "metadata": {},
      "outputs": [
        {
          "name": "stdout",
          "output_type": "stream",
          "text": [
            "----------------------------------------------------------------------------------------------------\n",
            "data/4.txt ➜ 11369 chars, 1000 lines; first 7 lines:\n",
            "----------------------------------------------------------------------------------------------------\n",
            "57-93,9-57\n",
            "55-55,55-83\n",
            "55-88,78-88\n",
            "24-24,24-95\n",
            "7-92,8-93\n",
            "25-84,84-85\n",
            "62-85,62-85\n",
            "----------------------------------------------------------------------------------------------------\n",
            "parse(4) ➜ 1000 entries:\n",
            "----------------------------------------------------------------------------------------------------\n",
            "(((57, 93), (9, 57)), ((55, 55), (55, 83)), ((55, 88), (78, 88)), ((24 ... )), ((22, 23), (22, 60)))\n",
            "----------------------------------------------------------------------------------------------------\n"
          ]
        }
      ],
      "source": [
        "def contained(a,b):\n",
        "    return a[0] <= b[0] and a[1] >= b[1]\n",
        "\n",
        "def someOverlap(a,b):\n",
        "    return (a[0] <= b[0] and a[1] >= b[0]) \n",
        "\n",
        "def getInput(x):\n",
        "    entries = x.split(\",\")\n",
        "    entry1 = entries[0].split(\"-\")\n",
        "    entry2 = entries[1].split(\"-\")\n",
        "    return ((int(entry1[0]),int(entry1[1])),(int(entry2[0]),int(entry2[1])))\n",
        "\n",
        "\n",
        "in4 = parse(\"4\", getInput )"
      ]
    },
    {
      "cell_type": "code",
      "execution_count": 77,
      "metadata": {},
      "outputs": [
        {
          "data": {
            "text/plain": [
              "471"
            ]
          },
          "execution_count": 77,
          "metadata": {},
          "output_type": "execute_result"
        }
      ],
      "source": [
        "quantify(contained(a,b) or contained(b,a) for a,b in in4)"
      ]
    },
    {
      "cell_type": "code",
      "execution_count": 78,
      "metadata": {},
      "outputs": [
        {
          "data": {
            "text/plain": [
              "888"
            ]
          },
          "execution_count": 78,
          "metadata": {},
          "output_type": "execute_result"
        }
      ],
      "source": [
        "quantify(someOverlap(a,b) or someOverlap(b,a) for a,b in in4)"
      ]
    }
  ],
  "metadata": {
    "kernelspec": {
      "display_name": "Python 3.10.8 64-bit",
      "language": "python",
      "name": "python3"
    },
    "language_info": {
      "codemirror_mode": {
        "name": "ipython",
        "version": 3
      },
      "file_extension": ".py",
      "mimetype": "text/x-python",
      "name": "python",
      "nbconvert_exporter": "python",
      "pygments_lexer": "ipython3",
      "version": "3.10.8"
    },
    "vscode": {
      "interpreter": {
        "hash": "b0fa6594d8f4cbf19f97940f81e996739fb7646882a419484c72d19e05852a7e"
      }
    }
  },
  "nbformat": 4,
  "nbformat_minor": 4
}
